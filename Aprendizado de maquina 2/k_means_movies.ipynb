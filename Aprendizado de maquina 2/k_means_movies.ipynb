{
 "cells": [
  {
   "cell_type": "code",
   "execution_count": null,
   "metadata": {
    "colab": {},
    "colab_type": "code",
    "id": "YXqNZdv-ZaCW"
   },
   "outputs": [],
   "source": [
    "import pandas as pd"
   ]
  },
  {
   "cell_type": "code",
   "execution_count": null,
   "metadata": {
    "colab": {
     "base_uri": "https://localhost:8080/",
     "height": 204
    },
    "colab_type": "code",
    "id": "9ka7MpRDZ6un",
    "outputId": "b4fe0ce5-5136-48c3-8685-eabea4de0bb2"
   },
   "outputs": [],
   "source": [
    "filmes = pd.read_csv(\"movies.csv\")\n",
    "filmes.columns = ['filme_id', 'titulo', 'generos']\n",
    "filmes.head()"
   ]
  },
  {
   "cell_type": "code",
   "execution_count": null,
   "metadata": {},
   "outputs": [],
   "source": [
    "filmes.shape"
   ]
  },
  {
   "cell_type": "code",
   "execution_count": null,
   "metadata": {
    "colab": {
     "base_uri": "https://localhost:8080/",
     "height": 440
    },
    "colab_type": "code",
    "id": "4udsNJKmenKP",
    "outputId": "a9f3b9f8-ee1f-48d0-c20f-37a9e72c9d42"
   },
   "outputs": [],
   "source": [
    "#binary the genre\n",
    "generos = filmes.generos.str.get_dummies()\n",
    "generos.head()"
   ]
  },
  {
   "cell_type": "code",
   "execution_count": null,
   "metadata": {},
   "outputs": [],
   "source": [
    "dados_dos_filmes = pd.concat([filmes, generos], axis=1)\n",
    "dados_dos_filmes.head()"
   ]
  },
  {
   "cell_type": "code",
   "execution_count": null,
   "metadata": {
    "colab": {
     "base_uri": "https://localhost:8080/",
     "height": 326
    },
    "colab_type": "code",
    "id": "i03DoJxEgCve",
    "outputId": "64d09c96-bb1a-4e6d-fc47-03a7aee2803b"
   },
   "outputs": [],
   "source": [
    "from sklearn.preprocessing import StandardScaler\n",
    "#Removing the mean and scaling to unit variance (mean = 0 and std = 1)\n",
    "#z=(x-u)/s\n",
    "scaler = StandardScaler()\n",
    "generos_escalados = scaler.fit_transform(generos)\n",
    "generos_escalados[:3,:]"
   ]
  },
  {
   "cell_type": "code",
   "execution_count": null,
   "metadata": {
    "colab": {},
    "colab_type": "code",
    "id": "29FCuwUZhpoZ"
   },
   "outputs": [],
   "source": [
    "from sklearn.cluster import KMeans"
   ]
  },
  {
   "cell_type": "code",
   "execution_count": null,
   "metadata": {
    "colab": {
     "base_uri": "https://localhost:8080/",
     "height": 34
    },
    "colab_type": "code",
    "id": "t44GBMxujld6",
    "outputId": "064d7fa2-0024-4048-afb2-cb61b78a0430"
   },
   "outputs": [],
   "source": [
    "modelo = KMeans(n_clusters=3)\n",
    "modelo.fit(generos_escalados)\n",
    "print(f'Grupos {modelo.labels_}')"
   ]
  },
  {
   "cell_type": "code",
   "execution_count": null,
   "metadata": {
    "colab": {
     "base_uri": "https://localhost:8080/",
     "height": 306
    },
    "colab_type": "code",
    "id": "AJaizvYnDAAI",
    "outputId": "63fe19a9-560b-4e3f-98a0-fd0ba5fabfaf"
   },
   "outputs": [],
   "source": [
    "print(generos.columns)\n",
    "print(modelo.cluster_centers_)"
   ]
  },
  {
   "cell_type": "code",
   "execution_count": null,
   "metadata": {
    "colab": {
     "base_uri": "https://localhost:8080/",
     "height": 196
    },
    "colab_type": "code",
    "id": "WIstEJTzDXVB",
    "outputId": "929580a5-2b7b-472f-84a9-940d85d202a9"
   },
   "outputs": [],
   "source": [
    "grupos = pd.DataFrame(modelo.cluster_centers_,columns=generos.columns)\n",
    "grupos"
   ]
  },
  {
   "cell_type": "code",
   "execution_count": null,
   "metadata": {
    "colab": {
     "base_uri": "https://localhost:8080/",
     "height": 1589
    },
    "colab_type": "code",
    "id": "_sS5PHRxDkzx",
    "outputId": "a8ccc6ec-f3c7-4ca1-b42a-b8f3be5a6f8b"
   },
   "outputs": [],
   "source": [
    "#subplot: make separate plot for each column\n",
    "grupos.transpose().plot.bar(subplots=True,figsize=(25, 25),sharex=False)"
   ]
  },
  {
   "cell_type": "code",
   "execution_count": null,
   "metadata": {
    "colab": {
     "base_uri": "https://localhost:8080/",
     "height": 1020
    },
    "colab_type": "code",
    "id": "Srn_eSZlFQNd",
    "outputId": "21fe4ed8-c753-493b-ffd6-c7d08a781319"
   },
   "outputs": [],
   "source": [
    "#the first 10 records from cluster 0\n",
    "grupo = 0\n",
    "filtro = modelo.labels_ == grupo\n",
    "dados_dos_filmes[filtro].sample(10)"
   ]
  },
  {
   "cell_type": "code",
   "execution_count": null,
   "metadata": {
    "colab": {},
    "colab_type": "code",
    "id": "m8BizddvJrss"
   },
   "outputs": [],
   "source": [
    "#t-distributed Stochastic Neighbor Embedding\n",
    "from sklearn.manifold import TSNE\n",
    "import time"
   ]
  },
  {
   "cell_type": "code",
   "execution_count": null,
   "metadata": {
    "colab": {
     "base_uri": "https://localhost:8080/",
     "height": 136
    },
    "colab_type": "code",
    "id": "j42uj4JPJ66H",
    "outputId": "47a60d00-ceae-487b-9679-542f41a7e507"
   },
   "outputs": [],
   "source": [
    "#reduz a dimensionalidade par uma melhor visualização\n",
    "time_start = time.time()\n",
    "tsne = TSNE()\n",
    "visualizacao = tsne.fit_transform(generos_escalados)\n",
    "print ('t-SNE done! Time elapsed: {} seconds',format(time.time()-time_start))\n",
    "visualizacao"
   ]
  },
  {
   "cell_type": "code",
   "execution_count": null,
   "metadata": {
    "colab": {
     "base_uri": "https://localhost:8080/",
     "height": 780
    },
    "colab_type": "code",
    "id": "434b6dAOKqHE",
    "outputId": "c14c7873-faaa-4a36-cc8b-63fa20fb92c8"
   },
   "outputs": [],
   "source": [
    "import seaborn as sns\n",
    "sns.set(rc={'figure.figsize': (13, 13)})\n",
    "sns.scatterplot(x=visualizacao[:, 0],\n",
    "               y=visualizacao[:, 1],\n",
    "               hue=modelo.labels_,\n",
    "               palette=sns.color_palette('Set1', 3))"
   ]
  },
  {
   "cell_type": "code",
   "execution_count": null,
   "metadata": {
    "colab": {
     "base_uri": "https://localhost:8080/",
     "height": 3161
    },
    "colab_type": "code",
    "id": "AYRvUVlHqId7",
    "outputId": "417fef0e-447c-40d2-fd40-294c7c25c121"
   },
   "outputs": [],
   "source": [
    "modelo = KMeans(n_clusters=20)\n",
    "\n",
    "modelo.fit(generos_escalados)\n",
    "\n",
    "grupos = pd.DataFrame(modelo.cluster_centers_,\n",
    "            columns=generos.columns)\n",
    "\n",
    "grupos.transpose().plot.bar(subplots=True,\n",
    "               figsize=(25, 50),\n",
    "               sharex=False,\n",
    "               rot=0)"
   ]
  },
  {
   "cell_type": "code",
   "execution_count": null,
   "metadata": {
    "colab": {
     "base_uri": "https://localhost:8080/",
     "height": 1054
    },
    "colab_type": "code",
    "id": "PLLv-9-ktQsv",
    "outputId": "0d8d2b11-a876-47df-c108-302241ea8a35"
   },
   "outputs": [],
   "source": [
    "grupo = 2\n",
    "filtro = modelo.labels_ == grupo\n",
    "dados_dos_filmes[filtro].sample(10)"
   ]
  },
  {
   "cell_type": "code",
   "execution_count": null,
   "metadata": {
    "colab": {},
    "colab_type": "code",
    "id": "GwJ9MQPbwIrl"
   },
   "outputs": [],
   "source": [
    "def kmeans(numero_de_clusters, generos):\n",
    "  modelo = KMeans(n_clusters=numero_de_clusters)\n",
    "  modelo.fit(generos)\n",
    "  return [numero_de_clusters, modelo.inertia_/100]"
   ]
  },
  {
   "cell_type": "code",
   "execution_count": null,
   "metadata": {
    "colab": {
     "base_uri": "https://localhost:8080/",
     "height": 34
    },
    "colab_type": "code",
    "id": "jowar5JPwmHm",
    "outputId": "f8ab223b-ade2-4666-8955-aeb500e2df4a"
   },
   "outputs": [],
   "source": [
    "kmeans(20, generos_escalados)"
   ]
  },
  {
   "cell_type": "code",
   "execution_count": null,
   "metadata": {
    "colab": {
     "base_uri": "https://localhost:8080/",
     "height": 34
    },
    "colab_type": "code",
    "id": "zmZUCNz97qoz",
    "outputId": "707b5139-bdcd-40bc-e50f-017fb00704c0"
   },
   "outputs": [],
   "source": [
    "kmeans(3, generos_escalados)"
   ]
  },
  {
   "cell_type": "code",
   "execution_count": null,
   "metadata": {},
   "outputs": [],
   "source": [
    "a_list = list(range(1, 5))\n",
    "print(a_list)"
   ]
  },
  {
   "cell_type": "code",
   "execution_count": null,
   "metadata": {},
   "outputs": [],
   "source": [
    "resultado=[]\n",
    "for numero_de_grupos in range (1,41):\n",
    "    resultado.append(kmeans(numero_de_grupos, generos_escalados))\n",
    "resultado"
   ]
  },
  {
   "cell_type": "code",
   "execution_count": null,
   "metadata": {
    "colab": {
     "base_uri": "https://localhost:8080/",
     "height": 1289
    },
    "colab_type": "code",
    "id": "HGRfKUwt8Zkv",
    "outputId": "950af49c-47aa-4dca-9643-b806dfb60f55"
   },
   "outputs": [],
   "source": [
    "resultado = pd.DataFrame(resultado, columns=['grupos', 'inertia'], index=list(range(1, 41)))\n",
    "resultado"
   ]
  },
  {
   "cell_type": "code",
   "execution_count": null,
   "metadata": {
    "colab": {
     "base_uri": "https://localhost:8080/",
     "height": 780
    },
    "colab_type": "code",
    "id": "fe9SJLbF8pZk",
    "outputId": "d228d996-bbe9-493b-fe62-a4dc3d0bc964"
   },
   "outputs": [],
   "source": [
    "resultado.inertia.plot(x=resultado.grupos, y=resultado.inertia,figsize=(20, 5),xticks=resultado.grupos)\n",
    "#xlabel=\"Grupos\", ylabel=\"SSE\""
   ]
  },
  {
   "cell_type": "code",
   "execution_count": null,
   "metadata": {
    "colab": {
     "base_uri": "https://localhost:8080/",
     "height": 3110
    },
    "colab_type": "code",
    "id": "Q8M0xdFI9sOs",
    "outputId": "b335d0d2-6f4d-4b90-d192-8f306994e70a"
   },
   "outputs": [],
   "source": [
    "modelo = KMeans(n_clusters=17)\n",
    "modelo.fit(generos_escalados)\n",
    "\n",
    "grupos = pd.DataFrame(modelo.cluster_centers_,\n",
    "            columns=generos.columns)\n",
    "\n",
    "grupos.transpose().plot.bar(subplots=True,\n",
    "               figsize=(25, 50),\n",
    "               sharex=False,\n",
    "               rot=0)"
   ]
  },
  {
   "cell_type": "code",
   "execution_count": null,
   "metadata": {
    "colab": {
     "base_uri": "https://localhost:8080/",
     "height": 986
    },
    "colab_type": "code",
    "id": "Z_e1GHZ5-Qkt",
    "outputId": "19843d50-10b2-4ba0-ba46-166105eb4cf6"
   },
   "outputs": [],
   "source": [
    "grupo = 16\n",
    "filtro = modelo.labels_ == grupo\n",
    "dados_dos_filmes[filtro].sample(10)"
   ]
  },
  {
   "cell_type": "code",
   "execution_count": null,
   "metadata": {
    "colab": {},
    "colab_type": "code",
    "id": "LXBay-suUtkF"
   },
   "outputs": [],
   "source": []
  }
 ],
 "metadata": {
  "colab": {
   "collapsed_sections": [],
   "name": "Copy of Copy of filmes.ipynb",
   "provenance": [],
   "version": "0.3.2"
  },
  "kernelspec": {
   "display_name": "Python 3",
   "language": "python",
   "name": "python3"
  },
  "language_info": {
   "codemirror_mode": {
    "name": "ipython",
    "version": 3
   },
   "file_extension": ".py",
   "mimetype": "text/x-python",
   "name": "python",
   "nbconvert_exporter": "python",
   "pygments_lexer": "ipython3",
   "version": "3.7.1"
  }
 },
 "nbformat": 4,
 "nbformat_minor": 1
}
